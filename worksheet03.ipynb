{
  "cells": [
    {
      "cell_type": "markdown",
      "metadata": {
        "id": "view-in-github",
        "colab_type": "text"
      },
      "source": [
        "<a href=\"https://colab.research.google.com/github/suleymanmehmetgunes/cmpe331-worksheet03c/blob/main/worksheet03.ipynb\" target=\"_parent\"><img src=\"https://colab.research.google.com/assets/colab-badge.svg\" alt=\"Open In Colab\"/></a>"
      ]
    },
    {
      "cell_type": "code",
      "execution_count": null,
      "metadata": {
        "id": "eNaPrR5ebVZf"
      },
      "outputs": [],
      "source": [
        "\"\"\"\n",
        " Stage : Development -01\n",
        " @author : Mustafa Mohammed Hammood Hammood , 120200014\n",
        " @author : Süleyman Mehmet Güneş , 119200077\n",
        "\n",
        " \"\"\""
      ]
    },
    {
      "cell_type": "code",
      "execution_count": null,
      "metadata": {
        "id": "Wq47WlP9MRIF"
      },
      "outputs": [],
      "source": [
        "from bs4 import BeautifulSoup"
      ]
    },
    {
      "cell_type": "code",
      "execution_count": null,
      "metadata": {
        "id": "-87r7w_RQQqa"
      },
      "outputs": [],
      "source": [
        "import requests"
      ]
    },
    {
      "cell_type": "code",
      "execution_count": null,
      "metadata": {
        "id": "Fma48O5yM3AN"
      },
      "outputs": [],
      "source": [
        "airbnb_house = 'https://www.airbnb.com.tr/'"
      ]
    },
    {
      "cell_type": "code",
      "execution_count": null,
      "metadata": {
        "id": "W9lna4ZlQYPz"
      },
      "outputs": [],
      "source": [
        "page = requests.get(airbnb_house)"
      ]
    },
    {
      "cell_type": "code",
      "execution_count": null,
      "metadata": {
        "id": "O9nnlEsYRgAJ"
      },
      "outputs": [],
      "source": [
        "soup = BeautifulSoup(page.content, 'html.parser')"
      ]
    },
    {
      "cell_type": "code",
      "execution_count": null,
      "metadata": {
        "id": "9h1FK33nP5QY"
      },
      "outputs": [],
      "source": [
        "print(soup.prettify())"
      ]
    },
    {
      "cell_type": "code",
      "execution_count": 79,
      "metadata": {
        "id": "UiqVRV8MYW2r"
      },
      "outputs": [],
      "source": [
        "ratingHouse = soup.select(\"r1dxllyb dir dir-ltr\")\n",
        "for rate in ratingHouse:\n",
        "    print(rate.text)"
      ]
    },
    {
      "cell_type": "code",
      "execution_count": null,
      "metadata": {
        "id": "SMXdeeD_Wczt"
      },
      "outputs": [],
      "source": [
        "priceHouse = soup.select(\"a8jt5op dir dir-ltr _tyxjp1\")\n",
        "for rate in priceHouse:\n",
        "    print(rate.text)"
      ]
    }
  ],
  "metadata": {
    "colab": {
      "provenance": [],
      "include_colab_link": true
    },
    "kernelspec": {
      "display_name": "Python 3",
      "name": "python3"
    },
    "language_info": {
      "name": "python"
    }
  },
  "nbformat": 4,
  "nbformat_minor": 0
}